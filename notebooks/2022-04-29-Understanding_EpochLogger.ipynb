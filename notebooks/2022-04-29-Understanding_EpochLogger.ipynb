{
 "cells": [
  {
   "cell_type": "markdown",
   "id": "ccf54bda",
   "metadata": {},
   "source": [
    "This package stores all statistics obtained from an experiment by using `EpochLogger`. `EpochLogger` is located at `rl_learner/utils/logger.py`. Many practival RL packages plot the results based on log files, not during run time."
   ]
  },
  {
   "cell_type": "code",
   "execution_count": 1,
   "id": "d35c1186",
   "metadata": {},
   "outputs": [],
   "source": [
    "import os\n",
    "import time\n",
    "import atexit\n",
    "from torch.utils.tensorboard import SummaryWriter\n",
    "\n",
    "\n",
    "class EpochLogger:\n",
    "    \"\"\"\n",
    "    Minimal version of spinningup's EpochLogger.\n",
    "    \n",
    "    References:\n",
    "        https://github.com/openai/spinningup/blob/master/spinup/utils/logx.py\n",
    "        https://github.com/kakaoenterprise/JORLDY/blob/master/jorldy/manager/log_manager.py\n",
    "    \"\"\"\n",
    "    def __init__(self, run_id=None):\n",
    "        \"\"\"\n",
    "        Args:\n",
    "            run_id (string): The name of an experiment. If ``None``, \n",
    "                , defaults to a random number.\n",
    "        \"\"\"\n",
    "        self.run_id = run_id or str(int(time.time()))\n",
    "        output_dir = os.path.join(\"./results\", self.run_id)\n",
    "        if not os.path.exists(output_dir):\n",
    "            os.makedirs(output_dir)\n",
    "        self.output_file = open(os.path.join(output_dir, 'progress.txt'), 'w')\n",
    "        atexit.register(self.output_file.close)  # The file is automatically closed when the program exits\n",
    "        \n",
    "        self.writer = SummaryWriter(output_dir)\n",
    "        self.first_row = True\n",
    "        self.epoch_dict = dict()\n",
    "        \n",
    "    def log(self, **kwargs):\n",
    "        \"\"\"Log diagnostics\"\"\"\n",
    "        for k, v in kwargs.items():\n",
    "            if not(k in self.epoch_dict.keys()):\n",
    "                self.epoch_dict[k] = []\n",
    "            self.epoch_dict[k].append(v)\n",
    "            self.writer.add_scalar(k, v, len(self.epoch_dict[k]))\n",
    "            \n",
    "    def dump(self):\n",
    "        \"\"\"\n",
    "        Write all of the diagnostics to the ouput file.\n",
    "        \"\"\"\n",
    "        keys, vals = zip(*self.epoch_dict.items())\n",
    "        self.output_file.write(\"\\t\".join(keys) + \"\\n\")\n",
    "        for row in zip(*vals):\n",
    "            self.output_file.write(\"\\t\".join(map(str, row)) + \"\\n\")\n",
    "        self.output_file.flush()\n",
    "            "
   ]
  },
  {
   "cell_type": "markdown",
   "id": "86902671",
   "metadata": {},
   "source": [
    "The following code creates a directory of name `./results/test_run` and writes the logs at `progress.txt`, as well as the file for TensorBoard. One can check the current statistics in real-time by using TensorBoard:\n",
    "~~~\n",
    "tensorboard --logdir ./results/{run_id}\n",
    "~~~"
   ]
  },
  {
   "cell_type": "code",
   "execution_count": 2,
   "id": "d777d1b6",
   "metadata": {},
   "outputs": [],
   "source": [
    "logger = EpochLogger(run_id='test_run')\n",
    "for e in range(10):\n",
    "    logger.log(epoch=e, reward=10 * e)\n",
    "logger.dump()"
   ]
  },
  {
   "cell_type": "code",
   "execution_count": 3,
   "id": "aa99dda8",
   "metadata": {},
   "outputs": [
    {
     "data": {
      "text/plain": [
       "{'epoch': [0, 1, 2, 3, 4, 5, 6, 7, 8, 9],\n",
       " 'reward': [0, 10, 20, 30, 40, 50, 60, 70, 80, 90]}"
      ]
     },
     "execution_count": 3,
     "metadata": {},
     "output_type": "execute_result"
    }
   ],
   "source": [
    "logger.epoch_dict"
   ]
  }
 ],
 "metadata": {
  "kernelspec": {
   "display_name": "Python 3 (ipykernel)",
   "language": "python",
   "name": "python3"
  },
  "language_info": {
   "codemirror_mode": {
    "name": "ipython",
    "version": 3
   },
   "file_extension": ".py",
   "mimetype": "text/x-python",
   "name": "python",
   "nbconvert_exporter": "python",
   "pygments_lexer": "ipython3",
   "version": "3.8.13"
  }
 },
 "nbformat": 4,
 "nbformat_minor": 5
}
