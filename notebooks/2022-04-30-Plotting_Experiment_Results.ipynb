{
 "cells": [
  {
   "cell_type": "markdown",
   "id": "795529b4",
   "metadata": {},
   "source": [
    "This notebook aims to understand `rl_learner/utils/plotting.py`."
   ]
  },
  {
   "cell_type": "markdown",
   "id": "4b7ea0f6",
   "metadata": {},
   "source": [
    "# Running dummy experiments"
   ]
  },
  {
   "cell_type": "code",
   "execution_count": 2,
   "id": "86a733c7",
   "metadata": {},
   "outputs": [],
   "source": [
    "import sys\n",
    "sys.path.append('../')  # For importing `rl_learners`\n",
    "\n",
    "import os\n",
    "import gym\n",
    "import numpy as np\n",
    "import pandas as pd\n",
    "import seaborn as sns\n",
    "import matplotlib.pyplot as plt\n",
    "\n",
    "from rl_learner.utils.logger import EpochLogger"
   ]
  },
  {
   "cell_type": "code",
   "execution_count": 3,
   "id": "c7051d82",
   "metadata": {},
   "outputs": [],
   "source": [
    "output_dir = './results/plotting'\n",
    "exp_name = 'random'\n",
    "n_episodes = 100\n",
    "run_ids = [0, 1, 2, 3]\n",
    "\n",
    "env = gym.make('CartPole-v1')\n",
    "\n",
    "for run_id in run_ids:\n",
    "    logger = EpochLogger(output_dir, exp_name, run_id=run_id)\n",
    "    for e in range(n_episodes):\n",
    "        s, done, epi_r = env.reset(), False, 0\n",
    "        while not done:\n",
    "            a = env.action_space.sample()\n",
    "            s_prime, r, done, info = env.step(a)\n",
    "            epi_r += r\n",
    "            \n",
    "        logger.log(\n",
    "            Epoch=e,\n",
    "            AverageEpRet=epi_r\n",
    "        )\n",
    "    logger.dump()"
   ]
  },
  {
   "cell_type": "markdown",
   "id": "44ecba85",
   "metadata": {},
   "source": [
    "# Collecting experiments"
   ]
  },
  {
   "cell_type": "code",
   "execution_count": 4,
   "id": "90a2ce96",
   "metadata": {},
   "outputs": [],
   "source": [
    "def get_datasets(logdir):\n",
    "    \"\"\"\n",
    "    Recursively look through logdir for output files produced by EpochLogger. \n",
    "\n",
    "    Assumes that any file \"progress.txt\" is a valid hit.\n",
    "\n",
    "    Refereces:\n",
    "        https://github.com/openai/spinningup/blob/master/spinup/utils/plot.py#L61\n",
    "    \"\"\"\n",
    "    datasets = []\n",
    "    for root, _, files in os.walk(logdir):\n",
    "        if 'progress.txt' in files:\n",
    "            exp_dir, run_id = os.path.split(root)\n",
    "            _, exp_name = os.path.split(exp_dir)\n",
    "            exp_data = pd.read_table(os.path.join(root, 'progress.txt'))\n",
    "\n",
    "            # Add columns indicating experiments\n",
    "            exp_data.insert(len(exp_data.columns), 'Exp', exp_name)\n",
    "            exp_data.insert(len(exp_data.columns), 'ID', run_id)\n",
    "            exp_data.insert(len(exp_data.columns), 'Exp-ID', exp_name + '-' + run_id)\n",
    "\n",
    "            datasets.append(exp_data)\n",
    "\n",
    "    return datasets"
   ]
  },
  {
   "cell_type": "code",
   "execution_count": 5,
   "id": "f77e8e5b",
   "metadata": {
    "scrolled": true
   },
   "outputs": [
    {
     "data": {
      "text/plain": [
       "[    Epoch  AverageEpRet     Exp ID    Exp-ID\n",
       " 0       0          16.0  random  0  random-0\n",
       " 1       1          11.0  random  0  random-0\n",
       " 2       2          10.0  random  0  random-0\n",
       " 3       3          10.0  random  0  random-0\n",
       " 4       4          30.0  random  0  random-0\n",
       " ..    ...           ...     ... ..       ...\n",
       " 95     95          44.0  random  0  random-0\n",
       " 96     96          15.0  random  0  random-0\n",
       " 97     97          15.0  random  0  random-0\n",
       " 98     98          33.0  random  0  random-0\n",
       " 99     99          15.0  random  0  random-0\n",
       " \n",
       " [100 rows x 5 columns],\n",
       "     Epoch  AverageEpRet     Exp ID    Exp-ID\n",
       " 0       0          22.0  random  1  random-1\n",
       " 1       1          16.0  random  1  random-1\n",
       " 2       2          29.0  random  1  random-1\n",
       " 3       3          12.0  random  1  random-1\n",
       " 4       4          12.0  random  1  random-1\n",
       " ..    ...           ...     ... ..       ...\n",
       " 95     95          22.0  random  1  random-1\n",
       " 96     96          16.0  random  1  random-1\n",
       " 97     97          17.0  random  1  random-1\n",
       " 98     98          12.0  random  1  random-1\n",
       " 99     99          22.0  random  1  random-1\n",
       " \n",
       " [100 rows x 5 columns],\n",
       "     Epoch  AverageEpRet     Exp ID    Exp-ID\n",
       " 0       0          47.0  random  3  random-3\n",
       " 1       1          26.0  random  3  random-3\n",
       " 2       2          25.0  random  3  random-3\n",
       " 3       3          13.0  random  3  random-3\n",
       " 4       4          12.0  random  3  random-3\n",
       " ..    ...           ...     ... ..       ...\n",
       " 95     95          10.0  random  3  random-3\n",
       " 96     96          28.0  random  3  random-3\n",
       " 97     97          25.0  random  3  random-3\n",
       " 98     98          19.0  random  3  random-3\n",
       " 99     99          12.0  random  3  random-3\n",
       " \n",
       " [100 rows x 5 columns],\n",
       "     Epoch  AverageEpRet     Exp ID    Exp-ID\n",
       " 0       0          29.0  random  2  random-2\n",
       " 1       1          12.0  random  2  random-2\n",
       " 2       2          13.0  random  2  random-2\n",
       " 3       3          24.0  random  2  random-2\n",
       " 4       4          17.0  random  2  random-2\n",
       " ..    ...           ...     ... ..       ...\n",
       " 95     95          22.0  random  2  random-2\n",
       " 96     96          17.0  random  2  random-2\n",
       " 97     97          42.0  random  2  random-2\n",
       " 98     98          13.0  random  2  random-2\n",
       " 99     99          34.0  random  2  random-2\n",
       " \n",
       " [100 rows x 5 columns]]"
      ]
     },
     "execution_count": 5,
     "metadata": {},
     "output_type": "execute_result"
    }
   ],
   "source": [
    "datasets = get_datasets(logdir='./results/plotting')\n",
    "datasets"
   ]
  },
  {
   "cell_type": "markdown",
   "id": "4194e4ab",
   "metadata": {},
   "source": [
    "# Plotting"
   ]
  },
  {
   "cell_type": "code",
   "execution_count": 6,
   "id": "083877da",
   "metadata": {},
   "outputs": [],
   "source": [
    "def plot_data(data, target=\"AverageEpRet\", smooth=1, hue='Exp', **kwargs):\n",
    "    if smooth > 1:\n",
    "        y = np.ones(smooth)\n",
    "        for datum in data:\n",
    "            x = np.asarray(datum[target])\n",
    "            z = np.ones(len(x))\n",
    "            smoothed_x = np.convolve(x, y, 'same') / np.convolve(z, y, 'same')\n",
    "            datum[target] = smoothed_x\n",
    "\n",
    "    if isinstance(data, list):\n",
    "        data = pd.concat(data, ignore_index=True)\n",
    "\n",
    "    # Plotting    \n",
    "    sns.set(style='darkgrid', font_scale=1.5)\n",
    "    sns.lineplot(data=data, x='Epoch', y=target, hue=hue, **kwargs)\n",
    "    plt.legend(loc='best').set_draggable(True)\n",
    "\n",
    "    xscale = np.max(np.asarray(data['Epoch'])) > 5e3\n",
    "    if xscale:\n",
    "        plt.ticklabel_format(style='sci', axis='x', scilimits=(0, 1))\n",
    "    plt.tight_layout(pad=0.5)"
   ]
  },
  {
   "cell_type": "code",
   "execution_count": 8,
   "id": "0e749e3d",
   "metadata": {},
   "outputs": [
    {
     "name": "stderr",
     "output_type": "stream",
     "text": [
      "/opt/homebrew/Caskroom/miniforge/base/envs/rl/lib/python3.8/site-packages/seaborn/rcmod.py:400: DeprecationWarning: distutils Version classes are deprecated. Use packaging.version instead.\n",
      "  if LooseVersion(mpl.__version__) >= \"3.0\":\n",
      "/opt/homebrew/Caskroom/miniforge/base/envs/rl/lib/python3.8/site-packages/setuptools/_distutils/version.py:351: DeprecationWarning: distutils Version classes are deprecated. Use packaging.version instead.\n",
      "  other = LooseVersion(other)\n"
     ]
    },
    {
     "data": {
      "image/png": "[encoded data removed]",
      "text/plain": [
       "<Figure size 432x288 with 1 Axes>"
      ]
     },
     "metadata": {
      "needs_background": "light"
     },
     "output_type": "display_data"
    }
   ],
   "source": [
    "plt.figure()\n",
    "plot_data(datasets, target='AverageEpRet', hue='Exp', smooth=10)\n",
    "plt.show()"
   ]
  }
 ],
 "metadata": {
  "kernelspec": {
   "display_name": "Python 3 (ipykernel)",
   "language": "python",
   "name": "python3"
  },
  "language_info": {
   "codemirror_mode": {
    "name": "ipython",
    "version": 3
   },
   "file_extension": ".py",
   "mimetype": "text/x-python",
   "name": "python",
   "nbconvert_exporter": "python",
   "pygments_lexer": "ipython3",
   "version": "3.8.13"
  }
 },
 "nbformat": 4,
 "nbformat_minor": 5
}
